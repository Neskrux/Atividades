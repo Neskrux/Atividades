{
  "nbformat": 4,
  "nbformat_minor": 0,
  "metadata": {
    "colab": {
      "provenance": [],
      "include_colab_link": true
    },
    "kernelspec": {
      "name": "python3",
      "display_name": "Python 3"
    },
    "language_info": {
      "name": "python"
    }
  },
  "cells": [
    {
      "cell_type": "markdown",
      "metadata": {
        "id": "view-in-github",
        "colab_type": "text"
      },
      "source": [
        "<a href=\"https://colab.research.google.com/github/Neskrux/Atividades/blob/main/C%C3%B3pia_de_C%C3%B3pia_de_Avalia%C3%A7%C3%A3o_Individual_RA3.ipynb\" target=\"_parent\"><img src=\"https://colab.research.google.com/assets/colab-badge.svg\" alt=\"Open In Colab\"/></a>"
      ]
    },
    {
      "cell_type": "markdown",
      "source": [
        "# Avaliação de Recuperação RA2 - 2024-1\n",
        "\n",
        "**Antes de começar, leia estas instruções cuidadosamente.**\n",
        "Esta avaliação é individual. Você poderá consultar qualquer fonte disponível na biblioteca, suas anotações ou na internet. Você não pode consultar outras pessoas mesmo por meio eletrônico.\n",
        "\n",
        "**Crie uma cópia deste caderno agora!** E continue lendo as instruções nesta cópia.\n",
        "\n",
        "**Não existirão prorrogações de prazo de entrega.** Se programe para entregar sua avaliação 5 minutos antes do fim do prazo para evitar imprevistos de última hora.\n",
        "\n",
        "**Trabalhos idênticos entregues por pessoas, diferentes, serão zerados.** Todos os trabalhos poderão ser submetidos a verificação de plágio. Por meio do sistema de instituição ou outro qualquer disponível na internet. Isso significa que respostas copiadas e coladas de sistemas de inteligência artificial que sejam classificados com semelhança maior que 70% também serão zerados. Qualquer diagnóstico indicativo de plágio acima de 70% também irá provocar o zeramento da avaliação.\n",
        "\n",
        "Para que sua avaliação seja considerada **ela deve ser entregues em uma cópia deste caderno de atividades na forma de um link postado no AVA da instituição (Canvas)** apenas no local correspondente a essa entrega na avaliação. Qualquer link enviado em comentários, e-mails, mensagens de Whatsapp, ou qualquer outro meio eletrônico serão ignorados provocando o zeramento desta avaliação.\n",
        "\n",
        "Entrega será realizada com a postagem de um link apontando para um ambiente de execução, no AVA da institução. Neste link o **seu caderno deve permitir ser executado (permissão de leitor)**. Serão aceitos links diretos ao ambiente do Google Colaboratory, ou Links a um caderno do Google Colaboratory que tenha sido **salvo pelo próprio Google Colaboratory** no GitHub. Links para outro ambiente, ou que requeiram qualquer tipo de **download, cliques extras, ou ainda, que requeiram aprovação para acesso, provocarão o zeramento desta avaliação**.\n",
        "\n",
        "Antes de enviar o seu trabalho, teste o compartilhamento em uma aba anônima do seu navegador web preferido.\n",
        "\n",
        "Todos os enunciados devem ser preservados e você deverá inserir uma célula de textos com o **seu nome, IMEDIATATAMENTE APÓS esta célula de texto** onde estão estas instruções.\n",
        "\n",
        "**Qualquer alteração do caderno contendo as suas respostas que seja registrada após a data de postagem provocará a anulação da avaliação**.\n",
        "\n",
        "Você poderá usar, nas suas respostas, só e somente só, a **linguagem Python** limitada ao uso das seguintes bibliotecas: **math, numpy, sympy, matplotlib, ipWidgets e IPython**. O uso de qualquer biblioteca não listada nestas instruções irá provocar o zeramento da questão.\n",
        "\n",
        "**Todo e qualquer gráfico que usar nas suas respostas deverá ser criado usando o Python**.\n",
        "\n",
        "**Todas as questões devem ser respondidas em caixas de texto, usando latex para permitir a renderização com qualidade matemática.** Exceto quando a questão indicar que você pode usar qualquer técnica computacional. Neste caso, as técnicas estarão limitadas as técnicas vistas em sala e as técnicas baseadas no retângulo de Reimann.\n",
        "\n",
        "Não é permitido usar qualquer técnica matemática baseada em cálculo numérico, séries de Taylor. de Leibntz, ou de qualquer outro tipo, ou ainda conhecimento matemático que fuja dos conteúdos apresenados em aula referentes ao estudo da integração.\n",
        "\n",
        "**Você poderá utilizar técnicas numéricas para calcular áreas, ou para encontrar o polinômio referente a um dado conjunto de pontos. Ainda a sim, sua resposta deve ser explicada em uma caixa de textos, usando latex para as equações matemáticas. Ainda assim, estas técnicas estão limitadas as técnicas apresentadas em sala (Reimann, Lagrange)**.\n",
        "\n",
        "**Esta avaliação está limitada a conteúdo de técnicas, regras e conceitos de integração**. Porém, pode ocorrer a necessidade do uso dos conceitos e técnicas de limites, ou derivadas para a solução das questões. Neste caso, o uso de técnicas de derivação está limitado as técnicas apresentadas em sala. Estando exclúidos qualquer método que inclua o uso de séries.\n",
        "\n",
        "Se você encontrar algo errado nesta avaliação anote suas observações na própria questão. Suas observações serão consideradas durante a avaliação e, em caso de pertinência, poderão encejar a anulação do item, ou da questão relacionados ao erro que você encontrou de acordo com os critérios do professor.\n",
        "\n",
        "**ATENÇÃO: TODAS AS QUESTÕES DEVEM SER RESPONDIDAS NA CÉLULA EM BRANCO QUE EXISTE APÓS CADA ENUNCIADO. OS ENUNCIADOS TÊM QUE SER PRESERVADOS.** Se, por algum motivo, ao fazer a cópia deste caderno de questões você perca as células em branco, deve criar uma nova célula após cada enunciado para colocar sua resposta. Você poderá criar quantas células de texto, ou código, que precisar desde que estas células estejam entre a questão que você está respondendo e a próxima questão deste caderno.\n",
        "\n",
        "**Lembrem-se a interpretação faz parte da questão.**\n",
        "\n",
        "**Rubrica de Avaliação**: As questões serão consideradas corretas se, e somente se, apresentarem a resposta correta, o processo algébrico estiver claro, completo e conciso (nenhuma passagem não explicada), os gráficos contiverem todas as informações necessárias ao seu entendimento.\n",
        "\n",
        "## Regras de Integração\n",
        "\n",
        "### Regras de Integração em Português\n",
        "\n",
        "$$\n",
        "\\int k \\, dx = kx + C, \\quad \\text{onde } k \\text{ é uma constante}\n",
        "$$\n",
        "\n",
        "$$\n",
        "\\int x^n \\, dx = \\frac{1}{n + 1} x^{n + 1} + C, \\quad \\text{se } n \\neq -1\n",
        "$$\n",
        "\n",
        "$$\n",
        "\\int \\frac{1}{x} \\, dx = \\ln |x| + C\n",
        "$$\n",
        "\n",
        "$$\n",
        "\\int k f(x) \\, dx = k \\int f(x) \\, dx\n",
        "$$\n",
        "\n",
        "$$\n",
        "\\int \\left( f(x) \\pm g(x) \\right) \\, dx = \\int f(x) \\, dx \\pm \\int g(x) \\, dx\n",
        "$$\n",
        "\n",
        "$$\n",
        "\\int \\sin x \\, dx = -\\cos x + C\n",
        "$$\n",
        "\n",
        "$$\n",
        "\\int \\cos x \\, dx = \\sin x + C\n",
        "$$\n",
        "\n",
        "$$\n",
        "\\int e^x \\, dx = e^x + C\n",
        "$$\n"
      ],
      "metadata": {
        "id": "vgXVkO9FGMwU"
      }
    },
    {
      "cell_type": "markdown",
      "source": [
        "Aluno: Bruno Sandoval Ribeiro"
      ],
      "metadata": {
        "id": "mzCvcy-KJL6D"
      }
    },
    {
      "cell_type": "markdown",
      "source": [
        "# Questão 1 - Vale até 1 ponto\n",
        "Em uma região desértica, pesquisadores estão estudando o crescimento de uma espécie rara de cacto. O crescimento do cacto ao longo do tempo é modelado pela função $y = x^5(2 - x)$, onde $y$ representa a altura do cacto em metros e $x$ representa o tempo em anos desde o início do estudo. Os pesquisadores querem determinar a quantidade total de biomassa acumulada pelo cacto ao longo dos primeiros 2 anos. Sabemos, de estudos anteriores que a biomassa acumulada é proporcional a área sob a curva de crescimento do cacto ao longo do tempo. Determine a área sob a curva da função $y = x^5(2 - x)$ nestes dois anos.\n",
        "\n"
      ],
      "metadata": {
        "id": "vT6WZq9ZKd-r"
      }
    },
    {
      "cell_type": "code",
      "source": [
        "import numpy as np\n",
        "import matplotlib.pyplot as plt\n",
        "\n",
        "# Função de crescimento do cacto\n",
        "def f(x):\n",
        "    return x**5 * (2 - x)\n",
        "\n",
        "# Valores de x de 0 a 2\n",
        "x = np.linspace(0, 2, 400)\n",
        "y = f(x)\n",
        "\n",
        "# Plot da função\n",
        "plt.plot(x, y, label=r\"$x^5(2 - x)$\")\n",
        "plt.fill_between(x, y, alpha=0.3)\n",
        "plt.xlabel(\"$x$ (anos)\")\n",
        "plt.ylabel(\"$y$ (altura do cacto)\")\n",
        "plt.title(\"Crescimento do cacto ao longo dos primeiros 2 anos\")\n",
        "plt.grid(True)\n",
        "plt.legend()\n",
        "plt.show()\n"
      ],
      "metadata": {
        "colab": {
          "base_uri": "https://localhost:8080/",
          "height": 474
        },
        "id": "rBFSQ0GSK7bH",
        "outputId": "c3349f42-3aa5-4c1c-efb6-3e9ee7f9863b"
      },
      "execution_count": null,
      "outputs": [
        {
          "output_type": "display_data",
          "data": {
            "text/plain": [
              "<Figure size 640x480 with 1 Axes>"
            ],
            "image/png": "[encoded data removed]"
          },
          "metadata": {}
        }
      ]
    },
    {
      "cell_type": "markdown",
      "source": [
        "\n",
        "\n",
        "Para encontrar a área sob a curva da função $ y = x^5(2 - x) $ nos primeiros 2 anos, precisamos calcular a integral definida de $ y $ de $ x = 0 $ a $ x = 2 $.\n",
        "\n",
        "A integral a ser calculada é:\n",
        "\n",
        "$ \\int_{0}^{2} x^5 (2 - x) \\, dx $\n",
        "\n",
        "Primeiro, expandimos a função:\n",
        "\n",
        "$ \\int_{0}^{2} x^5 (2 - x) \\, dx = \\int_{0}^{2} (2x^5 - x^6) \\, dx $\n",
        "\n",
        "Agora, integramos termo a termo:\n",
        "\n",
        "$ \\int_{0}^{2} (2x^5 - x^6) \\, dx = \\int_{0}^{2} 2x^5 \\, dx - \\int_{0}^{2} x^6 \\, dx $\n",
        "\n",
        "Calculando cada integral separadamente:\n",
        "\n",
        "1. Para a integral $\\int_{0}^{2} 2x^5 \\, dx$:\n",
        "\n",
        "$ \\int_{0}^{2} 2x^5 \\, dx = 2 \\int_{0}^{2} x^5 \\, dx = 2 \\left[ \\frac{x^6}{6} \\right]_{0}^{2} = 2 \\left( \\frac{2^6}{6} - \\frac{0^6}{6} \\right) = 2 \\left( \\frac{64}{6} \\right) = \\frac{128}{6} = \\frac{64}{3} $\n",
        "\n",
        "2. Para a integral $\\int_{0}^{2} x^6 \\, dx$:\n",
        "\n",
        "$ \\int_{0}^{2} x^6 \\, dx = \\left[ \\frac{x^7}{7} \\right]_{0}^{2} = \\frac{2^7}{7} - \\frac{0^7}{7} = \\frac{128}{7} $\n",
        "\n",
        "Subtraindo os resultados das duas integrais:\n",
        "\n",
        "$ \\int_{0}^{2} (2x^5 - x^6) \\, dx = \\frac{64}{3} - \\frac{128}{7} $\n",
        "\n",
        "Para subtrair essas frações, precisamos de um denominador comum:\n",
        "\n",
        "$ \\frac{64}{3} = \\frac{64 \\times 7}{3 \\times 7} = \\frac{448}{21} $\n",
        "$ \\frac{128}{7} = \\frac{128 \\times 3}{7 \\times 3} = \\frac{384}{21} $\n",
        "\n",
        "Portanto:\n",
        "\n",
        "$ \\int_{0}^{2} (2x^5 - x^6) \\, dx = \\frac{448}{21} - \\frac{384}{21} = \\frac{448 - 384}{21} = \\frac{64}{21} $\n",
        "\n",
        "Assim, a área sob a curva da função $ y = x^5(2 - x) $ nos primeiros 2 anos é $\\frac{64}{21}$ unidades quadradas.\n",
        "\n",
        "\n"
      ],
      "metadata": {
        "id": "bi3QyxPwKJ3D"
      }
    },
    {
      "cell_type": "markdown",
      "source": [
        "# Questão 2 - Vale até 1 ponto\n",
        "Usando o Python (matplotlib, sympy e numpy) trace o gráfico e calcule a área sob a função $F9x) = x^5(2 - x)$ para $0 \\leq x \\leq 2$. Não esqueça de anotar os pontos, hachurar a área calculada e de imprimir o valor da área encontrada."
      ],
      "metadata": {
        "id": "aTU7tNRaMY4w"
      }
    },
    {
      "cell_type": "code",
      "source": [
        "import numpy as np\n",
        "import matplotlib.pyplot as plt\n",
        "import sympy as sp\n",
        "\n",
        "# Definindo a função F(x) = x^5 * (2 - x)\n",
        "x = sp.symbols('x')\n",
        "F = x**5 * (2 - x)\n",
        "\n",
        "# Calculando a área sob a curva de 0 a 2\n",
        "area = sp.integrate(F, (x, 0, 2))\n",
        "area_value = area.evalf()\n",
        "\n",
        "# Usando numpy para criar uma função correspondente\n",
        "f = sp.lambdify(x, F, 'numpy')\n",
        "\n",
        "# Valores de x de 0 a 2\n",
        "x_vals = np.linspace(0, 2, 400)\n",
        "y_vals = f(x_vals)\n",
        "\n",
        "# Plot da função\n",
        "plt.plot(x_vals, y_vals, label=r\"$F(x) = x^5(2 - x)$\")\n",
        "plt.fill_between(x_vals, y_vals, alpha=0.3, hatch='//')\n",
        "plt.xlabel(\"$x$\")\n",
        "plt.ylabel(\"$F(x)$\")\n",
        "plt.title(f\"Área sob a curva $F(x) = x^5(2 - x)$ para $0 \\leq x \\leq 2$ \\nÁrea = {area_value}\")\n",
        "plt.grid(True)\n",
        "plt.legend()\n",
        "\n",
        "# Anotando os pontos\n",
        "plt.annotate(f'Área = {area_value:.2f}', xy=(1, 10), xytext=(0.5, 15),\n",
        "             arrowprops=dict(facecolor='black', shrink=0.05))\n",
        "\n",
        "# Mostrando o gráfico\n",
        "plt.show()\n"
      ],
      "metadata": {
        "id": "NTToF_ydLKQX"
      },
      "execution_count": null,
      "outputs": []
    },
    {
      "cell_type": "markdown",
      "source": [
        "# Questão 3 - Vale até 1 ponto\n",
        "\n",
        "A aceleração de um objeto é dada por $a(t) = \\cos(\\pi t)$, e sua velocidade no tempo $t = 0$ é $\\frac{1}{2\\pi}$. Usando apenas álgebra, encontre a distância total percorrida por este objeto nos primeiros $1,5$ segundos deste movimento. Dica: antes de calcular qualquer coisa verifique cuidadosamente a equação da aceleração. Não é necessário, mas talvez seja interessante, traçar um gráfico da aceleração e outro da velocidade para entender o problema. É necessário entender o movimento do objeto para saber quanto espaço ele percorreu."
      ],
      "metadata": {
        "id": "-iPLzLPUNge9"
      }
    },
    {
      "cell_type": "markdown",
      "source": [
        "\n",
        "\n",
        "Para encontrar a distância total percorrida pelo objeto nos primeiros $1.5$ segundos, primeiro encontramos a função da velocidade integrando a aceleração:\n",
        "\n",
        "A aceleração é $ a(t) = \\cos(\\pi t) $.\n",
        "\n",
        "A velocidade é a integral da aceleração:\n",
        "\n",
        "$ v(t) = \\int \\cos(\\pi t) \\, dt $\n",
        "\n",
        "Usamos a substituição $ u = \\pi t $, $ du = \\pi dt $ ou $ dt = \\frac{du}{\\pi} $:\n",
        "\n",
        "$ v(t) = \\int \\cos(u) \\frac{du}{\\pi} = \\frac{1}{\\pi} \\int \\cos(u) \\, du = \\frac{1}{\\pi} \\sin(u) + C = \\frac{1}{\\pi} \\sin(\\pi t) + C $\n",
        "\n",
        "Usamos a condição inicial $ v(0) = \\frac{12}{\\pi} $:\n",
        "\n",
        "$ v(0) = \\frac{1}{\\pi} \\sin(0) + C = \\frac{12}{\\pi} \\implies C = \\frac{12}{\\pi} $\n",
        "\n",
        "Portanto, a função da velocidade é:\n",
        "\n",
        "$ v(t) = \\frac{1}{\\pi} \\sin(\\pi t) + \\frac{12}{\\pi} $\n",
        "\n",
        "A posição é a integral da velocidade:\n",
        "\n",
        "$ s(t) = \\int \\left( \\frac{1}{\\pi} \\sin(\\pi t) + \\frac{12}{\\pi} \\right) dt $\n",
        "\n",
        "Separando a integral:\n",
        "\n",
        "$ s(t) = \\frac{1}{\\pi} \\int \\sin(\\pi t) \\, dt + \\frac{12}{\\pi} \\int 1 \\, dt $\n",
        "\n",
        "Usamos a substituição $ u = \\pi t $, $ du = \\pi dt $ ou $ dt = \\frac{du}{\\pi} $:\n",
        "\n",
        "$ \\int \\sin(\\pi t) \\, dt = \\frac{1}{\\pi} \\int \\sin(u) \\, du = -\\frac{1}{\\pi} \\cos(u) + C = -\\frac{1}{\\pi} \\cos(\\pi t) + C $\n",
        "\n",
        "Portanto:\n",
        "\n",
        "$ s(t) = -\\frac{1}{\\pi^2} \\cos(\\pi t) + \\frac{12}{\\pi} t + C $\n",
        "\n",
        "Usamos a condição inicial $ s(0) = 0 $:\n",
        "\n",
        "$ s(0) = -\\frac{1}{\\pi^2} \\cos(0) + \\frac{12}{\\pi} \\cdot 0 + C = 0 \\implies C = \\frac{1}{\\pi^2} $\n",
        "\n",
        "Portanto, a função da posição é:\n",
        "\n",
        "$ s(t) = -\\frac{1}{\\pi^2} \\cos(\\pi t) + \\frac{12}{\\pi} t + \\frac{1}{\\pi^2} $\n",
        "\n",
        "Para calcular a distância total percorrida nos primeiros $1.5$ segundos:\n",
        "\n",
        "$ s(1.5) = -\\frac{1}{\\pi^2} \\cos(\\pi \\cdot 1.5) + \\frac{12}{\\pi} \\cdot 1.5 + \\frac{1}{\\pi^2} $\n",
        "\n",
        "Calculamos o valor numérico:\n",
        "\n",
        "$ s(1.5) = -\\frac{1}{\\pi^2} (-1) + \\frac{12}{\\pi} \\cdot 1.5 + \\frac{1}{\\pi^2} = \\frac{1}{\\pi^2} + \\frac{18}{\\pi} + \\frac{1}{\\pi^2} = \\frac{2}{\\pi^2} + \\frac{18}{\\pi} $\n",
        "\n",
        "Portanto, a distância total percorrida é $ s(1.5) = \\frac{2}{\\pi^2} + \\frac{18}{\\pi} $ unidades.\n",
        "\n",
        "\n"
      ],
      "metadata": {
        "id": "QtZzlQBuLv7E"
      }
    },
    {
      "cell_type": "markdown",
      "source": [
        "# Questão 4 - Vale até 1 ponto\n",
        "\n",
        "Encontre a área limitada por $f(x) = -x^2 + 4x + 1$, $g(x) = -x^3 + 7x^2 - 10x + 3$ para  $1\\leq x \\leq 2$. Nesta questão você pode usar álgebra, ou Python, considerando as limitações de bibliotecas definidas para esta avaliação.  \n"
      ],
      "metadata": {
        "id": "CMdRv02PAz38"
      }
    },
    {
      "cell_type": "markdown",
      "source": [
        "\n",
        "\n",
        "Para encontrar a área limitada pelas funções $f(x) = -x^2 + 4x + 1$ e $g(x) = -x^3 + 7x^2 - 10x + 3$ para $1 \\leq x \\leq 2$, primeiro encontramos a função de diferença entre elas:\n",
        "\n",
        "A função de diferença é dada por $h(x) = f(x) - g(x)$, que é:\n",
        "\n",
        "$h(x) = (-x^2 + 4x + 1) - (-x^3 + 7x^2 - 10x + 3)$\n",
        "$h(x) = -x^2 + 4x + 1 + x^3 - 7x^2 + 10x - 3$\n",
        "$h(x) = x^3 - 8x^2 + 14x - 2$\n",
        "\n",
        "A área limitada pelas duas funções é dada pela integral de $h(x)$ de $x = 1$ a $x = 2$:\n",
        "\n",
        "$\\text{Área} = \\int_{1}^{2} h(x) \\, dx$\n",
        "\n"
      ],
      "metadata": {
        "id": "Wj9R_Ti5MUMs"
      }
    },
    {
      "cell_type": "markdown",
      "source": [
        "# Questão 5 - Vale até 1 ponto\n",
        "\n",
        "Use o método dos discos para determinar o volume do sólido obtido pela rotação da região delimitada por $y = \\sqrt{x}$, $y = 3$ e o próprio eixo $y$ em torno do eixo $y$.\n"
      ],
      "metadata": {
        "id": "53zwpYIEF4fI"
      }
    },
    {
      "cell_type": "markdown",
      "source": [
        "\n",
        "\n",
        "Para determinar o volume do sólido obtido pela rotação da região delimitada por $y = \\sqrt{x}$, $y = 3$ e o próprio eixo $y$ em torno do eixo $y$, usamos o método dos discos:\n",
        "\n",
        "**Passo 1: Definir a função de raio**\n",
        "\n",
        "O raio dos discos é dado pela distância entre a função $y = \\sqrt{x}$ e o eixo $y$, que é $r(x) = \\sqrt{x}$.\n",
        "\n",
        "**Passo 2: Calcular a área de um disco infinitesimal**\n",
        "\n",
        "A área de um disco infinitesimal é dada por $dA = \\pi r^2$.\n",
        "\n",
        "**Passo 3: Integrar para encontrar o volume total**\n",
        "\n",
        "O volume total é dado pela integral das áreas dos discos infinitesimais ao longo do intervalo $x$ em que $y = \\sqrt{x}$ está definido:\n",
        "\n",
        "$V = \\int_{0}^{9} dV = \\int_{0}^{9} \\pi r^2 \\, dx$\n",
        "\n",
        "Portanto, para encontrar o volume do sólido, precisamos calcular a integral definida da função $r(x) = \\sqrt{x}$ ao longo do intervalo $x = 0$ a $x = 9$.\n",
        "\n",
        "\n"
      ],
      "metadata": {
        "id": "ZEQ26UEwMz8A"
      }
    },
    {
      "cell_type": "markdown",
      "source": [
        "# Questão 6 - Vale até 3 pontos\n",
        "Para os problemas a e b, determine a média, usando a integração, para a funções nos intervalos especificados.\n",
        "\n",
        "a. $f(x) = 8x - 3 + 5e^{2-x}$ no intervalo $[0, 2]$ - Vale 1 ponto\n",
        "\n",
        "b. Considere que a posição de um objeto em movimento ao longo do eixo $ x $ é descrita pela função de deslocamento $ x(t) = t^3 - 6t^2 + 9t + 1 $, onde $ x(t) $ está em metros e $t$ está em segundos. Determine a velocidade média do objeto no intervalo de tempo de $ t = 1$ segundo até $t = 4$ segundos. - Vale 2 pontos"
      ],
      "metadata": {
        "id": "dr5lNibpLKmh"
      }
    },
    {
      "cell_type": "markdown",
      "source": [
        "Para determinar a média das funções nos intervalos especificados:\n",
        "\n",
        "**Para o problema a:**\n",
        "\n",
        "Dada a função $f(x) = 8x - 3 + 5e^{2-x}$ no intervalo $[0, 2]$, a média de $f(x)$ neste intervalo é dada por:\n",
        "\n",
        "$\\text{Média} = \\frac{1}{b - a} \\int_{a}^{b} f(x) \\, dx$\n",
        "\n",
        "Onde $a = 0$ e $b = 2$ são os limites de integração."
      ],
      "metadata": {
        "id": "TLUEspJ_NKKn"
      }
    },
    {
      "cell_type": "markdown",
      "source": [
        "**Para o problema b:**\n",
        "\n",
        "Dada a função de deslocamento $x(t) = t^3 - 6t^2 + 9t + 1$, a velocidade média do objeto no intervalo de tempo de $t = 1$ segundo até $t = 4$ segundos é dada pela média da função de velocidade, que é a derivada da função de deslocamento em relação ao tempo. Portanto, precisamos primeiro encontrar a função de velocidade $v(t)$, derivando $x(t)$ em relação a $t$, e então calcular a média de $v(t)$ no intervalo de tempo dado.\n",
        "\n"
      ],
      "metadata": {
        "id": "23ceNRTfNQuI"
      }
    },
    {
      "cell_type": "markdown",
      "source": [
        "# Questão 7 - Vale até 2 pontos\n",
        "\n",
        "Nos ítens a, b a seguir, encontre a família de antiderivadas das seguintes funções:\n",
        "\n",
        "a. $f(x) = 4x^3 - 6x^2 + 2x - 5 $.\n",
        "\n",
        "b. $f(x) = \\frac{1}{x} + e^x$ para todo $x\\neq 0$.\n",
        "\n",
        "\n"
      ],
      "metadata": {
        "id": "j_fo89ayUveW"
      }
    },
    {
      "cell_type": "markdown",
      "source": [
        "**Para o problema a:**\n",
        "\n",
        "Dada a função $f(x) = 4x^3 - 6x^2 + 2x - 5$, para encontrar uma antiderivada $F(x)$, integramos $f(x)$ em relação a $x$:\n",
        "\n",
        "$F(x) = \\int f(x) \\, dx = \\int (4x^3 - 6x^2 + 2x - 5) \\, dx$\n",
        "\n",
        "$F(x) = \\frac{4}{4}x^4 - \\frac{6}{3}x^3 + \\frac{2}{2}x^2 - 5x + C$\n",
        "\n",
        "$F(x) = x^4 - 2x^3 + x^2 - 5x + C$\n",
        "\n",
        "Portanto, a família de antiderivadas de $f(x)$ é $F(x) = x^4 - 2x^3 + x^2 - 5x + C$, onde $C$ é uma constante de integração."
      ],
      "metadata": {
        "id": "04IfoNuMNflp"
      }
    },
    {
      "cell_type": "markdown",
      "source": [
        "**Para o problema b:**\n",
        "\n",
        "Dada a função $f(x) = \\frac{1}{x} + e^x$ para $x \\neq 0$, para encontrar uma antiderivada $F(x)$, integramos $f(x)$ em relação a $x$:\n",
        "\n",
        "$F(x) = \\int f(x) \\, dx = \\int \\left( \\frac{1}{x} + e^x \\right) \\, dx$\n",
        "\n",
        "$F(x) = \\ln|x| + e^x + C$\n",
        "\n",
        "Portanto, a família de antiderivadas de $f(x)$ é $F(x) = \\ln|x| + e^x + C$, onde $C$ é uma constante de integração.\n"
      ],
      "metadata": {
        "id": "J-TS4HF3NgLc"
      }
    }
  ]
}